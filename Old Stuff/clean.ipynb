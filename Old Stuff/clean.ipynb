{
 "cells": [
  {
   "cell_type": "markdown",
   "id": "3e5a9855",
   "metadata": {},
   "source": [
    "# Cardiotocography Data Analysis for Fetal Health Classification"
   ]
  },
  {
   "cell_type": "code",
   "execution_count": 2,
   "id": "60d28f71",
   "metadata": {},
   "outputs": [],
   "source": [
    "# Core libraries and model APIs\n",
    "import warnings\n",
    "import numpy as np\n",
    "import pandas as pd\n",
    "from pathlib import Path\n",
    "import matplotlib.pyplot as plt\n",
    "import seaborn as sns"
   ]
  },
  {
   "cell_type": "code",
   "execution_count": 8,
   "id": "6bb7b55e",
   "metadata": {},
   "outputs": [
    {
     "data": {
      "text/plain": [
       "(2129, 46)"
      ]
     },
     "execution_count": 8,
     "metadata": {},
     "output_type": "execute_result"
    }
   ],
   "source": [
    "# Load and tidy the engineered feature sheet\n",
    "ctg_path = Path(\"CTG.xls\")\n",
    "assert ctg_path.exists(), f\"Expected Excel file at {ctg_path.resolve()}\"\n",
    "\n",
    "def read_feature_sheet(path: Path, sheet=0):\n",
    "    \"\"\"Load the CTG feature sheet, using row 2 as headers and data from row 3 onward.\"\"\"\n",
    "    xls = pd.ExcelFile(path)\n",
    "    sheet_name = xls.sheet_names[sheet] if isinstance(sheet, int) else sheet\n",
    "    try:\n",
    "        df = pd.read_excel(xls, sheet_name=sheet_name, header=1)\n",
    "    except ValueError:\n",
    "        df = pd.read_excel(xls, sheet_name=sheet_name, header=0)\n",
    "    return df\n",
    "\n",
    "raw_features = read_feature_sheet(ctg_path, sheet=0)\n",
    "raw_features.shape"
   ]
  },
  {
   "cell_type": "code",
   "execution_count": 9,
   "id": "fd5681fe",
   "metadata": {},
   "outputs": [
    {
     "data": {
      "text/plain": [
       "((2115, 30),\n",
       " NSP\n",
       " 1    1647\n",
       " 2     293\n",
       " 3     175\n",
       " Name: count, dtype: int64)"
      ]
     },
     "execution_count": 9,
     "metadata": {},
     "output_type": "execute_result"
    }
   ],
   "source": [
    "# Clean columns, drop leakage, and ensure numerics\n",
    "def tidy_sheet(df: pd.DataFrame) -> pd.DataFrame:\n",
    "    cleaned = df.copy()\n",
    "    cleaned.columns = [str(col).strip() for col in cleaned.columns]\n",
    "    cleaned = cleaned.dropna(axis=0, how='all').dropna(axis=1, how='all')\n",
    "    cleaned = cleaned.loc[:, ~cleaned.columns.str.contains('^Unnamed', case=False)]\n",
    "    cleaned = cleaned.loc[:, ~cleaned.columns.duplicated()]\n",
    "    rename_map = {\n",
    "        'MSTV': 'mSTV',\n",
    "        'MLTV': 'mLTV',\n",
    "        'Variance ': 'Variance',\n",
    "        'TENDENCY': 'Tendency'\n",
    "    }\n",
    "    cleaned = cleaned.rename(columns={k: v for k, v in rename_map.items() if k in cleaned.columns})\n",
    "    return cleaned\n",
    "\n",
    "sheet2 = tidy_sheet(raw_features)\n",
    "target_col = 'NSP'\n",
    "label_leak_cols = ['CLASS', 'A', 'B', 'C', 'D', 'E', 'AD', 'DE', 'LD', 'FS', 'SUSP']\n",
    "feature_cols = [col for col in sheet2.columns if col not in label_leak_cols + [target_col]]\n",
    "clean_df = (\n",
    "    sheet2\n",
    "    .drop(columns=label_leak_cols, errors='ignore')\n",
    "    .dropna(axis=0, how='all')\n",
    "    .drop_duplicates()\n",
    ")\n",
    "\n",
    "# Coerce numeric columns and drop rows without labels\n",
    "numeric_cols = feature_cols\n",
    "clean_df[numeric_cols] = clean_df[numeric_cols].apply(pd.to_numeric, errors='coerce')\n",
    "clean_df = clean_df.dropna(subset=[target_col]).copy()\n",
    "clean_df[target_col] = clean_df[target_col].astype(int)\n",
    "\n",
    "X = clean_df[numeric_cols]\n",
    "y = clean_df[target_col]\n",
    "X.shape, y.value_counts().sort_index()"
   ]
  }
 ],
 "metadata": {
  "kernelspec": {
   "display_name": "mlda_env",
   "language": "python",
   "name": "python3"
  },
  "language_info": {
   "codemirror_mode": {
    "name": "ipython",
    "version": 3
   },
   "file_extension": ".py",
   "mimetype": "text/x-python",
   "name": "python",
   "nbconvert_exporter": "python",
   "pygments_lexer": "ipython3",
   "version": "3.13.7"
  }
 },
 "nbformat": 4,
 "nbformat_minor": 5
}
